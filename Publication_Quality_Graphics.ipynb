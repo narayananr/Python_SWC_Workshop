{
 "cells": [
  {
   "cell_type": "markdown",
   "metadata": {},
   "source": [
    "# Mo Munging Mo Plotting\n",
    "#### publication quality graphics"
   ]
  },
  {
   "cell_type": "code",
   "execution_count": 1,
   "metadata": {
    "collapsed": true
   },
   "outputs": [],
   "source": [
    "# import pandas\n",
    "import pandas as pd\n",
    "# import pythn library\n",
    "import matplotlib.pyplot as plt\n",
    "# import the plotting package seaborn\n",
    "import seaborn as sns\n",
    "%matplotlib inline"
   ]
  },
  {
   "cell_type": "markdown",
   "metadata": {},
   "source": [
    "###  Read a tsv file into Pandas dataframe"
   ]
  },
  {
   "cell_type": "code",
   "execution_count": 58,
   "metadata": {
    "collapsed": false
   },
   "outputs": [
    {
     "data": {
      "text/html": [
       "<div>\n",
       "<style>\n",
       "    .dataframe thead tr:only-child th {\n",
       "        text-align: right;\n",
       "    }\n",
       "\n",
       "    .dataframe thead th {\n",
       "        text-align: left;\n",
       "    }\n",
       "\n",
       "    .dataframe tbody tr th {\n",
       "        vertical-align: top;\n",
       "    }\n",
       "</style>\n",
       "<table border=\"1\" class=\"dataframe\">\n",
       "  <thead>\n",
       "    <tr style=\"text-align: right;\">\n",
       "      <th></th>\n",
       "      <th>gene_id</th>\n",
       "      <th>7441_129S1_HFD</th>\n",
       "      <th>7516_129S1_HFD</th>\n",
       "      <th>7501_129S1_HFD</th>\n",
       "      <th>7654_129S1_HFD</th>\n",
       "      <th>7639_129S1_HFD</th>\n",
       "      <th>8393_129S1_HFD</th>\n",
       "      <th>8378_129S1_HFD</th>\n",
       "      <th>7456_129S1_HFD</th>\n",
       "      <th>7546_129S1_LFD</th>\n",
       "      <th>...</th>\n",
       "      <th>11190_WSB_HFD</th>\n",
       "      <th>9149_WSB_HFD</th>\n",
       "      <th>11060_WSB_LFD</th>\n",
       "      <th>11553_WSB_LFD</th>\n",
       "      <th>11538_WSB_LFD</th>\n",
       "      <th>11319_WSB_LFD</th>\n",
       "      <th>11468_WSB_LFD</th>\n",
       "      <th>11304_WSB_LFD</th>\n",
       "      <th>11483_WSB_LFD</th>\n",
       "      <th>11513_WSB_LFD</th>\n",
       "    </tr>\n",
       "  </thead>\n",
       "  <tbody>\n",
       "    <tr>\n",
       "      <th>0</th>\n",
       "      <td>ENSMUSG00000000001</td>\n",
       "      <td>596.0</td>\n",
       "      <td>881.0</td>\n",
       "      <td>1359.0</td>\n",
       "      <td>904.0</td>\n",
       "      <td>867.0</td>\n",
       "      <td>834.0</td>\n",
       "      <td>712.0</td>\n",
       "      <td>661.0</td>\n",
       "      <td>902.0</td>\n",
       "      <td>...</td>\n",
       "      <td>861.0</td>\n",
       "      <td>659.0</td>\n",
       "      <td>533.0</td>\n",
       "      <td>511.0</td>\n",
       "      <td>602.0</td>\n",
       "      <td>654.0</td>\n",
       "      <td>743.0</td>\n",
       "      <td>597.0</td>\n",
       "      <td>496.0</td>\n",
       "      <td>449.0</td>\n",
       "    </tr>\n",
       "    <tr>\n",
       "      <th>1</th>\n",
       "      <td>ENSMUSG00000000003</td>\n",
       "      <td>0.0</td>\n",
       "      <td>0.0</td>\n",
       "      <td>0.0</td>\n",
       "      <td>0.0</td>\n",
       "      <td>0.0</td>\n",
       "      <td>0.0</td>\n",
       "      <td>0.0</td>\n",
       "      <td>0.0</td>\n",
       "      <td>0.0</td>\n",
       "      <td>...</td>\n",
       "      <td>0.0</td>\n",
       "      <td>0.0</td>\n",
       "      <td>0.0</td>\n",
       "      <td>0.0</td>\n",
       "      <td>0.0</td>\n",
       "      <td>0.0</td>\n",
       "      <td>0.0</td>\n",
       "      <td>0.0</td>\n",
       "      <td>0.0</td>\n",
       "      <td>0.0</td>\n",
       "    </tr>\n",
       "    <tr>\n",
       "      <th>2</th>\n",
       "      <td>ENSMUSG00000000028</td>\n",
       "      <td>8.0</td>\n",
       "      <td>9.0</td>\n",
       "      <td>26.0</td>\n",
       "      <td>14.0</td>\n",
       "      <td>17.0</td>\n",
       "      <td>9.0</td>\n",
       "      <td>7.0</td>\n",
       "      <td>8.0</td>\n",
       "      <td>8.0</td>\n",
       "      <td>...</td>\n",
       "      <td>13.0</td>\n",
       "      <td>5.0</td>\n",
       "      <td>5.0</td>\n",
       "      <td>2.0</td>\n",
       "      <td>10.0</td>\n",
       "      <td>7.0</td>\n",
       "      <td>5.0</td>\n",
       "      <td>9.0</td>\n",
       "      <td>3.0</td>\n",
       "      <td>6.0</td>\n",
       "    </tr>\n",
       "    <tr>\n",
       "      <th>3</th>\n",
       "      <td>ENSMUSG00000000031</td>\n",
       "      <td>1.0</td>\n",
       "      <td>4.0</td>\n",
       "      <td>1.0</td>\n",
       "      <td>2.0</td>\n",
       "      <td>3.0</td>\n",
       "      <td>4.0</td>\n",
       "      <td>1.0</td>\n",
       "      <td>1.0</td>\n",
       "      <td>1.0</td>\n",
       "      <td>...</td>\n",
       "      <td>11.0</td>\n",
       "      <td>6.0</td>\n",
       "      <td>12.0</td>\n",
       "      <td>34.0</td>\n",
       "      <td>13.0</td>\n",
       "      <td>6.0</td>\n",
       "      <td>11.0</td>\n",
       "      <td>11.0</td>\n",
       "      <td>8.0</td>\n",
       "      <td>5.0</td>\n",
       "    </tr>\n",
       "    <tr>\n",
       "      <th>4</th>\n",
       "      <td>ENSMUSG00000000037</td>\n",
       "      <td>0.0</td>\n",
       "      <td>0.0</td>\n",
       "      <td>1.0</td>\n",
       "      <td>0.0</td>\n",
       "      <td>1.0</td>\n",
       "      <td>0.0</td>\n",
       "      <td>0.0</td>\n",
       "      <td>0.0</td>\n",
       "      <td>0.0</td>\n",
       "      <td>...</td>\n",
       "      <td>0.0</td>\n",
       "      <td>0.0</td>\n",
       "      <td>0.0</td>\n",
       "      <td>0.0</td>\n",
       "      <td>1.0</td>\n",
       "      <td>0.0</td>\n",
       "      <td>1.0</td>\n",
       "      <td>0.0</td>\n",
       "      <td>0.0</td>\n",
       "      <td>0.0</td>\n",
       "    </tr>\n",
       "  </tbody>\n",
       "</table>\n",
       "<p>5 rows × 129 columns</p>\n",
       "</div>"
      ],
      "text/plain": [
       "              gene_id  7441_129S1_HFD  7516_129S1_HFD  7501_129S1_HFD  \\\n",
       "0  ENSMUSG00000000001           596.0           881.0          1359.0   \n",
       "1  ENSMUSG00000000003             0.0             0.0             0.0   \n",
       "2  ENSMUSG00000000028             8.0             9.0            26.0   \n",
       "3  ENSMUSG00000000031             1.0             4.0             1.0   \n",
       "4  ENSMUSG00000000037             0.0             0.0             1.0   \n",
       "\n",
       "   7654_129S1_HFD  7639_129S1_HFD  8393_129S1_HFD  8378_129S1_HFD  \\\n",
       "0           904.0           867.0           834.0           712.0   \n",
       "1             0.0             0.0             0.0             0.0   \n",
       "2            14.0            17.0             9.0             7.0   \n",
       "3             2.0             3.0             4.0             1.0   \n",
       "4             0.0             1.0             0.0             0.0   \n",
       "\n",
       "   7456_129S1_HFD  7546_129S1_LFD      ...        11190_WSB_HFD  9149_WSB_HFD  \\\n",
       "0           661.0           902.0      ...                861.0         659.0   \n",
       "1             0.0             0.0      ...                  0.0           0.0   \n",
       "2             8.0             8.0      ...                 13.0           5.0   \n",
       "3             1.0             1.0      ...                 11.0           6.0   \n",
       "4             0.0             0.0      ...                  0.0           0.0   \n",
       "\n",
       "   11060_WSB_LFD  11553_WSB_LFD  11538_WSB_LFD  11319_WSB_LFD  11468_WSB_LFD  \\\n",
       "0          533.0          511.0          602.0          654.0          743.0   \n",
       "1            0.0            0.0            0.0            0.0            0.0   \n",
       "2            5.0            2.0           10.0            7.0            5.0   \n",
       "3           12.0           34.0           13.0            6.0           11.0   \n",
       "4            0.0            0.0            1.0            0.0            1.0   \n",
       "\n",
       "   11304_WSB_LFD  11483_WSB_LFD  11513_WSB_LFD  \n",
       "0          597.0          496.0          449.0  \n",
       "1            0.0            0.0            0.0  \n",
       "2            9.0            3.0            6.0  \n",
       "3           11.0            8.0            5.0  \n",
       "4            0.0            0.0            0.0  \n",
       "\n",
       "[5 rows x 129 columns]"
      ]
     },
     "execution_count": 58,
     "metadata": {},
     "output_type": "execute_result"
    }
   ],
   "source": [
    "exp_df = pd.read_csv('/Users/narayan/Projects/attieCC_liver/Attie_Liver_CC_Founders_EMASE_counts.tsv',sep=\"\\t\")\n",
    "exp_df.head()\n",
    "#exp_df.shape"
   ]
  },
  {
   "cell_type": "code",
   "execution_count": 62,
   "metadata": {
    "collapsed": false
   },
   "outputs": [],
   "source": [
    "exp_df.sample(n=10000).to_csv(\"Attie_Liver_CC_Founders_EMASE_10k_counts.txt\", sep=\"\\t\", index=False)"
   ]
  },
  {
   "cell_type": "code",
   "execution_count": 64,
   "metadata": {
    "collapsed": false
   },
   "outputs": [
    {
     "data": {
      "text/plain": [
       "(10000, 129)"
      ]
     },
     "execution_count": 64,
     "metadata": {},
     "output_type": "execute_result"
    }
   ],
   "source": [
    "data =pd.read_csv(\"Attie_Liver_CC_Founders_EMASE_10k_counts.txt\",sep=\"\\t\")\n",
    "data.shape"
   ]
  },
  {
   "cell_type": "code",
   "execution_count": null,
   "metadata": {
    "collapsed": true
   },
   "outputs": [],
   "source": [
    "url = 'https://raw.githubusercontent.com/narayananr/Python_SWC_Workshop/master/Attie_Liver_CC_Founders_EMASE_10k_counts.txt\n",
    "'"
   ]
  },
  {
   "cell_type": "code",
   "execution_count": 66,
   "metadata": {
    "collapsed": false
   },
   "outputs": [
    {
     "data": {
      "text/plain": [
       "(10000, 129)"
      ]
     },
     "execution_count": 66,
     "metadata": {},
     "output_type": "execute_result"
    }
   ],
   "source": [
    "exp_data_url = 'http://bit.ly/2nK6iGG'\n",
    "data =pd.read_csv(exp_data_url,sep='\\t')\n",
    "data.shape"
   ]
  },
  {
   "cell_type": "code",
   "execution_count": 67,
   "metadata": {
    "collapsed": false
   },
   "outputs": [
    {
     "data": {
      "text/html": [
       "<div>\n",
       "<style>\n",
       "    .dataframe thead tr:only-child th {\n",
       "        text-align: right;\n",
       "    }\n",
       "\n",
       "    .dataframe thead th {\n",
       "        text-align: left;\n",
       "    }\n",
       "\n",
       "    .dataframe tbody tr th {\n",
       "        vertical-align: top;\n",
       "    }\n",
       "</style>\n",
       "<table border=\"1\" class=\"dataframe\">\n",
       "  <thead>\n",
       "    <tr style=\"text-align: right;\">\n",
       "      <th></th>\n",
       "      <th>gene_id</th>\n",
       "      <th>7441_129S1_HFD</th>\n",
       "      <th>7516_129S1_HFD</th>\n",
       "      <th>7501_129S1_HFD</th>\n",
       "      <th>7654_129S1_HFD</th>\n",
       "      <th>7639_129S1_HFD</th>\n",
       "      <th>8393_129S1_HFD</th>\n",
       "      <th>8378_129S1_HFD</th>\n",
       "      <th>7456_129S1_HFD</th>\n",
       "      <th>7546_129S1_LFD</th>\n",
       "      <th>...</th>\n",
       "      <th>11190_WSB_HFD</th>\n",
       "      <th>9149_WSB_HFD</th>\n",
       "      <th>11060_WSB_LFD</th>\n",
       "      <th>11553_WSB_LFD</th>\n",
       "      <th>11538_WSB_LFD</th>\n",
       "      <th>11319_WSB_LFD</th>\n",
       "      <th>11468_WSB_LFD</th>\n",
       "      <th>11304_WSB_LFD</th>\n",
       "      <th>11483_WSB_LFD</th>\n",
       "      <th>11513_WSB_LFD</th>\n",
       "    </tr>\n",
       "  </thead>\n",
       "  <tbody>\n",
       "    <tr>\n",
       "      <th>0</th>\n",
       "      <td>ENSMUSG00000104835</td>\n",
       "      <td>0.00000</td>\n",
       "      <td>0.000000</td>\n",
       "      <td>1.000000</td>\n",
       "      <td>0.0</td>\n",
       "      <td>0.000000</td>\n",
       "      <td>0.0000</td>\n",
       "      <td>1.000000</td>\n",
       "      <td>0.000000</td>\n",
       "      <td>0.000000</td>\n",
       "      <td>...</td>\n",
       "      <td>0.000000</td>\n",
       "      <td>0.000000</td>\n",
       "      <td>1.00000</td>\n",
       "      <td>0.000000</td>\n",
       "      <td>0.000000</td>\n",
       "      <td>0.000000</td>\n",
       "      <td>0.000000</td>\n",
       "      <td>0.000000</td>\n",
       "      <td>0.000000</td>\n",
       "      <td>0.000000</td>\n",
       "    </tr>\n",
       "    <tr>\n",
       "      <th>1</th>\n",
       "      <td>ENSMUSG00000087621</td>\n",
       "      <td>0.00000</td>\n",
       "      <td>2.000000</td>\n",
       "      <td>2.000000</td>\n",
       "      <td>1.0</td>\n",
       "      <td>1.000000</td>\n",
       "      <td>2.0000</td>\n",
       "      <td>0.000000</td>\n",
       "      <td>2.000000</td>\n",
       "      <td>4.000000</td>\n",
       "      <td>...</td>\n",
       "      <td>0.000000</td>\n",
       "      <td>1.000000</td>\n",
       "      <td>0.00000</td>\n",
       "      <td>0.000000</td>\n",
       "      <td>1.000000</td>\n",
       "      <td>1.000000</td>\n",
       "      <td>2.000000</td>\n",
       "      <td>0.000000</td>\n",
       "      <td>0.000000</td>\n",
       "      <td>0.000000</td>\n",
       "    </tr>\n",
       "    <tr>\n",
       "      <th>2</th>\n",
       "      <td>ENSMUSG00000041231</td>\n",
       "      <td>122.61566</td>\n",
       "      <td>217.508963</td>\n",
       "      <td>277.925481</td>\n",
       "      <td>219.0</td>\n",
       "      <td>182.438847</td>\n",
       "      <td>206.8499</td>\n",
       "      <td>187.741775</td>\n",
       "      <td>157.461157</td>\n",
       "      <td>226.371068</td>\n",
       "      <td>...</td>\n",
       "      <td>301.899761</td>\n",
       "      <td>275.126135</td>\n",
       "      <td>202.74749</td>\n",
       "      <td>191.477721</td>\n",
       "      <td>166.176191</td>\n",
       "      <td>230.450405</td>\n",
       "      <td>254.731515</td>\n",
       "      <td>227.055349</td>\n",
       "      <td>228.626509</td>\n",
       "      <td>168.066118</td>\n",
       "    </tr>\n",
       "    <tr>\n",
       "      <th>3</th>\n",
       "      <td>ENSMUSG00000093890</td>\n",
       "      <td>0.00000</td>\n",
       "      <td>0.000000</td>\n",
       "      <td>0.000000</td>\n",
       "      <td>0.0</td>\n",
       "      <td>0.000000</td>\n",
       "      <td>0.0000</td>\n",
       "      <td>0.000000</td>\n",
       "      <td>0.000000</td>\n",
       "      <td>0.000000</td>\n",
       "      <td>...</td>\n",
       "      <td>0.000000</td>\n",
       "      <td>0.000000</td>\n",
       "      <td>0.00000</td>\n",
       "      <td>0.000000</td>\n",
       "      <td>0.000000</td>\n",
       "      <td>0.000000</td>\n",
       "      <td>0.000000</td>\n",
       "      <td>0.000000</td>\n",
       "      <td>0.000000</td>\n",
       "      <td>0.000000</td>\n",
       "    </tr>\n",
       "    <tr>\n",
       "      <th>4</th>\n",
       "      <td>ENSMUSG00000104587</td>\n",
       "      <td>0.00000</td>\n",
       "      <td>0.000000</td>\n",
       "      <td>0.000000</td>\n",
       "      <td>0.0</td>\n",
       "      <td>0.000000</td>\n",
       "      <td>0.0000</td>\n",
       "      <td>0.000000</td>\n",
       "      <td>0.000000</td>\n",
       "      <td>0.000000</td>\n",
       "      <td>...</td>\n",
       "      <td>0.000000</td>\n",
       "      <td>0.000000</td>\n",
       "      <td>0.00000</td>\n",
       "      <td>0.000000</td>\n",
       "      <td>0.000000</td>\n",
       "      <td>0.000000</td>\n",
       "      <td>0.000000</td>\n",
       "      <td>0.000000</td>\n",
       "      <td>0.000000</td>\n",
       "      <td>0.000000</td>\n",
       "    </tr>\n",
       "  </tbody>\n",
       "</table>\n",
       "<p>5 rows × 129 columns</p>\n",
       "</div>"
      ],
      "text/plain": [
       "              gene_id  7441_129S1_HFD  7516_129S1_HFD  7501_129S1_HFD  \\\n",
       "0  ENSMUSG00000104835         0.00000        0.000000        1.000000   \n",
       "1  ENSMUSG00000087621         0.00000        2.000000        2.000000   \n",
       "2  ENSMUSG00000041231       122.61566      217.508963      277.925481   \n",
       "3  ENSMUSG00000093890         0.00000        0.000000        0.000000   \n",
       "4  ENSMUSG00000104587         0.00000        0.000000        0.000000   \n",
       "\n",
       "   7654_129S1_HFD  7639_129S1_HFD  8393_129S1_HFD  8378_129S1_HFD  \\\n",
       "0             0.0        0.000000          0.0000        1.000000   \n",
       "1             1.0        1.000000          2.0000        0.000000   \n",
       "2           219.0      182.438847        206.8499      187.741775   \n",
       "3             0.0        0.000000          0.0000        0.000000   \n",
       "4             0.0        0.000000          0.0000        0.000000   \n",
       "\n",
       "   7456_129S1_HFD  7546_129S1_LFD      ...        11190_WSB_HFD  9149_WSB_HFD  \\\n",
       "0        0.000000        0.000000      ...             0.000000      0.000000   \n",
       "1        2.000000        4.000000      ...             0.000000      1.000000   \n",
       "2      157.461157      226.371068      ...           301.899761    275.126135   \n",
       "3        0.000000        0.000000      ...             0.000000      0.000000   \n",
       "4        0.000000        0.000000      ...             0.000000      0.000000   \n",
       "\n",
       "   11060_WSB_LFD  11553_WSB_LFD  11538_WSB_LFD  11319_WSB_LFD  11468_WSB_LFD  \\\n",
       "0        1.00000       0.000000       0.000000       0.000000       0.000000   \n",
       "1        0.00000       0.000000       1.000000       1.000000       2.000000   \n",
       "2      202.74749     191.477721     166.176191     230.450405     254.731515   \n",
       "3        0.00000       0.000000       0.000000       0.000000       0.000000   \n",
       "4        0.00000       0.000000       0.000000       0.000000       0.000000   \n",
       "\n",
       "   11304_WSB_LFD  11483_WSB_LFD  11513_WSB_LFD  \n",
       "0       0.000000       0.000000       0.000000  \n",
       "1       0.000000       0.000000       0.000000  \n",
       "2     227.055349     228.626509     168.066118  \n",
       "3       0.000000       0.000000       0.000000  \n",
       "4       0.000000       0.000000       0.000000  \n",
       "\n",
       "[5 rows x 129 columns]"
      ]
     },
     "execution_count": 67,
     "metadata": {},
     "output_type": "execute_result"
    }
   ],
   "source": [
    "data.head()"
   ]
  },
  {
   "cell_type": "markdown",
   "metadata": {},
   "source": [
    "### Load gene information file"
   ]
  },
  {
   "cell_type": "code",
   "execution_count": 3,
   "metadata": {
    "collapsed": false
   },
   "outputs": [
    {
     "name": "stdout",
     "output_type": "stream",
     "text": [
      "              gene_id gene_name chromo      start        end        bio_type\n",
      "0  ENSMUSG00000028180    Zranb2      3  157534160  157548410  protein_coding\n",
      "1  ENSMUSG00000028182    Lrriq3      3  155093434  155194280  protein_coding\n",
      "2  ENSMUSG00000028185   Dnase2b      3  146580985  146615596  protein_coding\n",
      "3  ENSMUSG00000028184    Adgrl2      3  148815583  148990555  protein_coding\n",
      "4  ENSMUSG00000028187      Rpf1      3  146505956  146521429  protein_coding\n"
     ]
    }
   ],
   "source": [
    "gene_info_url=\"https://raw.githubusercontent.com/narayananr/Pandas_Tutorial/master/gene_info_R82-REL1505_C57BL6J.tsv\"\n",
    "gene_info=pd.read_csv(gene_info_url, sep='\\t')\n",
    "print(gene_info.head())\n",
    "\n"
   ]
  },
  {
   "cell_type": "markdown",
   "metadata": {},
   "source": [
    "#### Size or shape of the dataframe"
   ]
  },
  {
   "cell_type": "code",
   "execution_count": 4,
   "metadata": {
    "collapsed": false
   },
   "outputs": [
    {
     "name": "stdout",
     "output_type": "stream",
     "text": [
      "(46603, 6)\n"
     ]
    }
   ],
   "source": [
    "print(gene_info.shape)"
   ]
  },
  {
   "cell_type": "markdown",
   "metadata": {},
   "source": [
    "### Merge two data frames"
   ]
  },
  {
   "cell_type": "code",
   "execution_count": 5,
   "metadata": {
    "collapsed": false
   },
   "outputs": [
    {
     "name": "stdout",
     "output_type": "stream",
     "text": [
      "(46517, 134)\n",
      "              gene_id gene_name chromo      start        end        bio_type  \\\n",
      "0  ENSMUSG00000028180    Zranb2      3  157534160  157548410  protein_coding   \n",
      "1  ENSMUSG00000028182    Lrriq3      3  155093434  155194280  protein_coding   \n",
      "2  ENSMUSG00000028185   Dnase2b      3  146580985  146615596  protein_coding   \n",
      "3  ENSMUSG00000028184    Adgrl2      3  148815583  148990555  protein_coding   \n",
      "4  ENSMUSG00000028187      Rpf1      3  146505956  146521429  protein_coding   \n",
      "\n",
      "   7441_129S1_HFD  7516_129S1_HFD  7501_129S1_HFD  7654_129S1_HFD  \\\n",
      "0      216.000000      355.000000      536.000000      377.000000   \n",
      "1        9.000000        7.000000       15.000000       14.000000   \n",
      "2       99.000000      231.000000      159.000000      238.000000   \n",
      "3      595.754704      333.456723      928.563736      387.072363   \n",
      "4       69.000000      137.000000      185.000000      131.000000   \n",
      "\n",
      "       ...        11190_WSB_HFD  9149_WSB_HFD  11060_WSB_LFD  11553_WSB_LFD  \\\n",
      "0      ...           304.000000    315.000000     209.000000     257.000000   \n",
      "1      ...            11.000000     12.000000       8.000000       8.000000   \n",
      "2      ...           513.000000    283.000000     212.000000     158.000000   \n",
      "3      ...           441.848348    382.327842     247.282277     244.038719   \n",
      "4      ...           134.000000    146.000000      80.000000      84.000000   \n",
      "\n",
      "   11538_WSB_LFD  11319_WSB_LFD  11468_WSB_LFD  11304_WSB_LFD  11483_WSB_LFD  \\\n",
      "0          247.0          261.0     322.000000     256.000000     255.000000   \n",
      "1            9.0           11.0      11.000000       8.000000      12.000000   \n",
      "2          249.0          260.0     304.000000     286.000000     179.000000   \n",
      "3          172.0          252.0     434.254622     230.164646     230.529848   \n",
      "4          113.0          109.0     137.000000     108.000000     113.000000   \n",
      "\n",
      "   11513_WSB_LFD  \n",
      "0     200.000000  \n",
      "1       4.000000  \n",
      "2      98.000000  \n",
      "3     215.268645  \n",
      "4      94.000000  \n",
      "\n",
      "[5 rows x 134 columns]\n"
     ]
    }
   ],
   "source": [
    "exp_with_gene_info= pd.merge(gene_info, exp_df, on='gene_id', how='inner')\n",
    "print(exp_with_gene_info.shape)\n",
    "print(exp_with_gene_info.head())\n"
   ]
  },
  {
   "cell_type": "markdown",
   "metadata": {},
   "source": [
    "### Extract gene expression data"
   ]
  },
  {
   "cell_type": "code",
   "execution_count": 7,
   "metadata": {
    "collapsed": false
   },
   "outputs": [
    {
     "name": "stdout",
     "output_type": "stream",
     "text": [
      "(46517, 128)\n",
      "   7441_129S1_HFD  7516_129S1_HFD  7501_129S1_HFD  7654_129S1_HFD  \\\n",
      "0      216.000000      355.000000      536.000000      377.000000   \n",
      "1        9.000000        7.000000       15.000000       14.000000   \n",
      "2       99.000000      231.000000      159.000000      238.000000   \n",
      "3      595.754704      333.456723      928.563736      387.072363   \n",
      "4       69.000000      137.000000      185.000000      131.000000   \n",
      "\n",
      "   7639_129S1_HFD  8393_129S1_HFD  8378_129S1_HFD  7456_129S1_HFD  \\\n",
      "0           345.0      299.000000      256.000000      313.000000   \n",
      "1            10.0       12.000000        8.000000        6.000000   \n",
      "2           163.0      176.000000      169.000000      130.000000   \n",
      "3           355.0      537.082105      407.013974      427.507411   \n",
      "4           145.0      105.000000      107.000000      102.000000   \n",
      "\n",
      "   7546_129S1_LFD  7471_129S1_LFD      ...        11190_WSB_HFD  9149_WSB_HFD  \\\n",
      "0      436.000000      390.000000      ...           304.000000    315.000000   \n",
      "1       15.000000        8.000000      ...            11.000000     12.000000   \n",
      "2      208.000000      220.000000      ...           513.000000    283.000000   \n",
      "3      538.176698      480.723515      ...           441.848348    382.327842   \n",
      "4      132.000000      135.000000      ...           134.000000    146.000000   \n",
      "\n",
      "   11060_WSB_LFD  11553_WSB_LFD  11538_WSB_LFD  11319_WSB_LFD  11468_WSB_LFD  \\\n",
      "0     209.000000     257.000000          247.0          261.0     322.000000   \n",
      "1       8.000000       8.000000            9.0           11.0      11.000000   \n",
      "2     212.000000     158.000000          249.0          260.0     304.000000   \n",
      "3     247.282277     244.038719          172.0          252.0     434.254622   \n",
      "4      80.000000      84.000000          113.0          109.0     137.000000   \n",
      "\n",
      "   11304_WSB_LFD  11483_WSB_LFD  11513_WSB_LFD  \n",
      "0     256.000000     255.000000     200.000000  \n",
      "1       8.000000      12.000000       4.000000  \n",
      "2     286.000000     179.000000      98.000000  \n",
      "3     230.164646     230.529848     215.268645  \n",
      "4     108.000000     113.000000      94.000000  \n",
      "\n",
      "[5 rows x 128 columns]\n"
     ]
    }
   ],
   "source": [
    "exp_data = exp_with_gene_info.loc[:,'7441_129S1_HFD':]\n",
    "print(exp_data.shape)\n",
    "print(exp_data.head())\n",
    "\n"
   ]
  },
  {
   "cell_type": "markdown",
   "metadata": {},
   "source": [
    "### Assign gene names as row index"
   ]
  },
  {
   "cell_type": "code",
   "execution_count": 8,
   "metadata": {
    "collapsed": false
   },
   "outputs": [
    {
     "data": {
      "text/html": [
       "<div>\n",
       "<style>\n",
       "    .dataframe thead tr:only-child th {\n",
       "        text-align: right;\n",
       "    }\n",
       "\n",
       "    .dataframe thead th {\n",
       "        text-align: left;\n",
       "    }\n",
       "\n",
       "    .dataframe tbody tr th {\n",
       "        vertical-align: top;\n",
       "    }\n",
       "</style>\n",
       "<table border=\"1\" class=\"dataframe\">\n",
       "  <thead>\n",
       "    <tr style=\"text-align: right;\">\n",
       "      <th></th>\n",
       "      <th>7441_129S1_HFD</th>\n",
       "      <th>7516_129S1_HFD</th>\n",
       "      <th>7501_129S1_HFD</th>\n",
       "      <th>7654_129S1_HFD</th>\n",
       "      <th>7639_129S1_HFD</th>\n",
       "      <th>8393_129S1_HFD</th>\n",
       "      <th>8378_129S1_HFD</th>\n",
       "      <th>7456_129S1_HFD</th>\n",
       "      <th>7546_129S1_LFD</th>\n",
       "      <th>7471_129S1_LFD</th>\n",
       "      <th>...</th>\n",
       "      <th>11190_WSB_HFD</th>\n",
       "      <th>9149_WSB_HFD</th>\n",
       "      <th>11060_WSB_LFD</th>\n",
       "      <th>11553_WSB_LFD</th>\n",
       "      <th>11538_WSB_LFD</th>\n",
       "      <th>11319_WSB_LFD</th>\n",
       "      <th>11468_WSB_LFD</th>\n",
       "      <th>11304_WSB_LFD</th>\n",
       "      <th>11483_WSB_LFD</th>\n",
       "      <th>11513_WSB_LFD</th>\n",
       "    </tr>\n",
       "  </thead>\n",
       "  <tbody>\n",
       "    <tr>\n",
       "      <th>Zranb2</th>\n",
       "      <td>216.000000</td>\n",
       "      <td>355.000000</td>\n",
       "      <td>536.000000</td>\n",
       "      <td>377.000000</td>\n",
       "      <td>345.0</td>\n",
       "      <td>299.000000</td>\n",
       "      <td>256.000000</td>\n",
       "      <td>313.000000</td>\n",
       "      <td>436.000000</td>\n",
       "      <td>390.000000</td>\n",
       "      <td>...</td>\n",
       "      <td>304.000000</td>\n",
       "      <td>315.000000</td>\n",
       "      <td>209.000000</td>\n",
       "      <td>257.000000</td>\n",
       "      <td>247.0</td>\n",
       "      <td>261.0</td>\n",
       "      <td>322.000000</td>\n",
       "      <td>256.000000</td>\n",
       "      <td>255.000000</td>\n",
       "      <td>200.000000</td>\n",
       "    </tr>\n",
       "    <tr>\n",
       "      <th>Lrriq3</th>\n",
       "      <td>9.000000</td>\n",
       "      <td>7.000000</td>\n",
       "      <td>15.000000</td>\n",
       "      <td>14.000000</td>\n",
       "      <td>10.0</td>\n",
       "      <td>12.000000</td>\n",
       "      <td>8.000000</td>\n",
       "      <td>6.000000</td>\n",
       "      <td>15.000000</td>\n",
       "      <td>8.000000</td>\n",
       "      <td>...</td>\n",
       "      <td>11.000000</td>\n",
       "      <td>12.000000</td>\n",
       "      <td>8.000000</td>\n",
       "      <td>8.000000</td>\n",
       "      <td>9.0</td>\n",
       "      <td>11.0</td>\n",
       "      <td>11.000000</td>\n",
       "      <td>8.000000</td>\n",
       "      <td>12.000000</td>\n",
       "      <td>4.000000</td>\n",
       "    </tr>\n",
       "    <tr>\n",
       "      <th>Dnase2b</th>\n",
       "      <td>99.000000</td>\n",
       "      <td>231.000000</td>\n",
       "      <td>159.000000</td>\n",
       "      <td>238.000000</td>\n",
       "      <td>163.0</td>\n",
       "      <td>176.000000</td>\n",
       "      <td>169.000000</td>\n",
       "      <td>130.000000</td>\n",
       "      <td>208.000000</td>\n",
       "      <td>220.000000</td>\n",
       "      <td>...</td>\n",
       "      <td>513.000000</td>\n",
       "      <td>283.000000</td>\n",
       "      <td>212.000000</td>\n",
       "      <td>158.000000</td>\n",
       "      <td>249.0</td>\n",
       "      <td>260.0</td>\n",
       "      <td>304.000000</td>\n",
       "      <td>286.000000</td>\n",
       "      <td>179.000000</td>\n",
       "      <td>98.000000</td>\n",
       "    </tr>\n",
       "    <tr>\n",
       "      <th>Adgrl2</th>\n",
       "      <td>595.754704</td>\n",
       "      <td>333.456723</td>\n",
       "      <td>928.563736</td>\n",
       "      <td>387.072363</td>\n",
       "      <td>355.0</td>\n",
       "      <td>537.082105</td>\n",
       "      <td>407.013974</td>\n",
       "      <td>427.507411</td>\n",
       "      <td>538.176698</td>\n",
       "      <td>480.723515</td>\n",
       "      <td>...</td>\n",
       "      <td>441.848348</td>\n",
       "      <td>382.327842</td>\n",
       "      <td>247.282277</td>\n",
       "      <td>244.038719</td>\n",
       "      <td>172.0</td>\n",
       "      <td>252.0</td>\n",
       "      <td>434.254622</td>\n",
       "      <td>230.164646</td>\n",
       "      <td>230.529848</td>\n",
       "      <td>215.268645</td>\n",
       "    </tr>\n",
       "    <tr>\n",
       "      <th>Rpf1</th>\n",
       "      <td>69.000000</td>\n",
       "      <td>137.000000</td>\n",
       "      <td>185.000000</td>\n",
       "      <td>131.000000</td>\n",
       "      <td>145.0</td>\n",
       "      <td>105.000000</td>\n",
       "      <td>107.000000</td>\n",
       "      <td>102.000000</td>\n",
       "      <td>132.000000</td>\n",
       "      <td>135.000000</td>\n",
       "      <td>...</td>\n",
       "      <td>134.000000</td>\n",
       "      <td>146.000000</td>\n",
       "      <td>80.000000</td>\n",
       "      <td>84.000000</td>\n",
       "      <td>113.0</td>\n",
       "      <td>109.0</td>\n",
       "      <td>137.000000</td>\n",
       "      <td>108.000000</td>\n",
       "      <td>113.000000</td>\n",
       "      <td>94.000000</td>\n",
       "    </tr>\n",
       "  </tbody>\n",
       "</table>\n",
       "<p>5 rows × 128 columns</p>\n",
       "</div>"
      ],
      "text/plain": [
       "         7441_129S1_HFD  7516_129S1_HFD  7501_129S1_HFD  7654_129S1_HFD  \\\n",
       "Zranb2       216.000000      355.000000      536.000000      377.000000   \n",
       "Lrriq3         9.000000        7.000000       15.000000       14.000000   \n",
       "Dnase2b       99.000000      231.000000      159.000000      238.000000   \n",
       "Adgrl2       595.754704      333.456723      928.563736      387.072363   \n",
       "Rpf1          69.000000      137.000000      185.000000      131.000000   \n",
       "\n",
       "         7639_129S1_HFD  8393_129S1_HFD  8378_129S1_HFD  7456_129S1_HFD  \\\n",
       "Zranb2            345.0      299.000000      256.000000      313.000000   \n",
       "Lrriq3             10.0       12.000000        8.000000        6.000000   \n",
       "Dnase2b           163.0      176.000000      169.000000      130.000000   \n",
       "Adgrl2            355.0      537.082105      407.013974      427.507411   \n",
       "Rpf1              145.0      105.000000      107.000000      102.000000   \n",
       "\n",
       "         7546_129S1_LFD  7471_129S1_LFD      ...        11190_WSB_HFD  \\\n",
       "Zranb2       436.000000      390.000000      ...           304.000000   \n",
       "Lrriq3        15.000000        8.000000      ...            11.000000   \n",
       "Dnase2b      208.000000      220.000000      ...           513.000000   \n",
       "Adgrl2       538.176698      480.723515      ...           441.848348   \n",
       "Rpf1         132.000000      135.000000      ...           134.000000   \n",
       "\n",
       "         9149_WSB_HFD  11060_WSB_LFD  11553_WSB_LFD  11538_WSB_LFD  \\\n",
       "Zranb2     315.000000     209.000000     257.000000          247.0   \n",
       "Lrriq3      12.000000       8.000000       8.000000            9.0   \n",
       "Dnase2b    283.000000     212.000000     158.000000          249.0   \n",
       "Adgrl2     382.327842     247.282277     244.038719          172.0   \n",
       "Rpf1       146.000000      80.000000      84.000000          113.0   \n",
       "\n",
       "         11319_WSB_LFD  11468_WSB_LFD  11304_WSB_LFD  11483_WSB_LFD  \\\n",
       "Zranb2           261.0     322.000000     256.000000     255.000000   \n",
       "Lrriq3            11.0      11.000000       8.000000      12.000000   \n",
       "Dnase2b          260.0     304.000000     286.000000     179.000000   \n",
       "Adgrl2           252.0     434.254622     230.164646     230.529848   \n",
       "Rpf1             109.0     137.000000     108.000000     113.000000   \n",
       "\n",
       "         11513_WSB_LFD  \n",
       "Zranb2      200.000000  \n",
       "Lrriq3        4.000000  \n",
       "Dnase2b      98.000000  \n",
       "Adgrl2      215.268645  \n",
       "Rpf1         94.000000  \n",
       "\n",
       "[5 rows x 128 columns]"
      ]
     },
     "execution_count": 8,
     "metadata": {},
     "output_type": "execute_result"
    }
   ],
   "source": [
    "exp_data.index = exp_with_gene_info.gene_name.values\n",
    "exp_data.head()"
   ]
  },
  {
   "cell_type": "markdown",
   "metadata": {},
   "source": [
    "#### Check the summary of the dataframe"
   ]
  },
  {
   "cell_type": "code",
   "execution_count": 9,
   "metadata": {
    "collapsed": false
   },
   "outputs": [
    {
     "data": {
      "text/html": [
       "<div>\n",
       "<style>\n",
       "    .dataframe thead tr:only-child th {\n",
       "        text-align: right;\n",
       "    }\n",
       "\n",
       "    .dataframe thead th {\n",
       "        text-align: left;\n",
       "    }\n",
       "\n",
       "    .dataframe tbody tr th {\n",
       "        vertical-align: top;\n",
       "    }\n",
       "</style>\n",
       "<table border=\"1\" class=\"dataframe\">\n",
       "  <thead>\n",
       "    <tr style=\"text-align: right;\">\n",
       "      <th></th>\n",
       "      <th>7441_129S1_HFD</th>\n",
       "      <th>7516_129S1_HFD</th>\n",
       "      <th>7501_129S1_HFD</th>\n",
       "      <th>7654_129S1_HFD</th>\n",
       "      <th>7639_129S1_HFD</th>\n",
       "      <th>8393_129S1_HFD</th>\n",
       "      <th>8378_129S1_HFD</th>\n",
       "      <th>7456_129S1_HFD</th>\n",
       "      <th>7546_129S1_LFD</th>\n",
       "      <th>7471_129S1_LFD</th>\n",
       "      <th>...</th>\n",
       "      <th>11190_WSB_HFD</th>\n",
       "      <th>9149_WSB_HFD</th>\n",
       "      <th>11060_WSB_LFD</th>\n",
       "      <th>11553_WSB_LFD</th>\n",
       "      <th>11538_WSB_LFD</th>\n",
       "      <th>11319_WSB_LFD</th>\n",
       "      <th>11468_WSB_LFD</th>\n",
       "      <th>11304_WSB_LFD</th>\n",
       "      <th>11483_WSB_LFD</th>\n",
       "      <th>11513_WSB_LFD</th>\n",
       "    </tr>\n",
       "  </thead>\n",
       "  <tbody>\n",
       "    <tr>\n",
       "      <th>count</th>\n",
       "      <td>46517.000000</td>\n",
       "      <td>46517.000000</td>\n",
       "      <td>46517.000000</td>\n",
       "      <td>46517.000000</td>\n",
       "      <td>46517.000000</td>\n",
       "      <td>46517.000000</td>\n",
       "      <td>46517.000000</td>\n",
       "      <td>46517.000000</td>\n",
       "      <td>46517.000000</td>\n",
       "      <td>46517.000000</td>\n",
       "      <td>...</td>\n",
       "      <td>46517.000000</td>\n",
       "      <td>46517.000000</td>\n",
       "      <td>46517.000000</td>\n",
       "      <td>46517.000000</td>\n",
       "      <td>46517.000000</td>\n",
       "      <td>46517.000000</td>\n",
       "      <td>46517.000000</td>\n",
       "      <td>46517.000000</td>\n",
       "      <td>46517.000000</td>\n",
       "      <td>46517.000000</td>\n",
       "    </tr>\n",
       "    <tr>\n",
       "      <th>mean</th>\n",
       "      <td>129.076703</td>\n",
       "      <td>214.137004</td>\n",
       "      <td>295.101769</td>\n",
       "      <td>219.104800</td>\n",
       "      <td>193.204140</td>\n",
       "      <td>215.962831</td>\n",
       "      <td>168.577036</td>\n",
       "      <td>142.932799</td>\n",
       "      <td>216.326096</td>\n",
       "      <td>176.023131</td>\n",
       "      <td>...</td>\n",
       "      <td>247.392029</td>\n",
       "      <td>191.256336</td>\n",
       "      <td>146.884193</td>\n",
       "      <td>143.813531</td>\n",
       "      <td>164.943032</td>\n",
       "      <td>213.669798</td>\n",
       "      <td>214.471527</td>\n",
       "      <td>178.852140</td>\n",
       "      <td>163.617108</td>\n",
       "      <td>140.167702</td>\n",
       "    </tr>\n",
       "    <tr>\n",
       "      <th>std</th>\n",
       "      <td>2265.085827</td>\n",
       "      <td>3850.888392</td>\n",
       "      <td>5134.500908</td>\n",
       "      <td>4012.543313</td>\n",
       "      <td>3582.818555</td>\n",
       "      <td>4302.808026</td>\n",
       "      <td>3113.025204</td>\n",
       "      <td>2593.796972</td>\n",
       "      <td>4124.682595</td>\n",
       "      <td>3170.136634</td>\n",
       "      <td>...</td>\n",
       "      <td>4919.396525</td>\n",
       "      <td>3447.299600</td>\n",
       "      <td>3018.897717</td>\n",
       "      <td>2828.363259</td>\n",
       "      <td>3402.434572</td>\n",
       "      <td>5258.142615</td>\n",
       "      <td>4810.114276</td>\n",
       "      <td>4060.533942</td>\n",
       "      <td>3535.649496</td>\n",
       "      <td>3073.409637</td>\n",
       "    </tr>\n",
       "    <tr>\n",
       "      <th>min</th>\n",
       "      <td>0.000000</td>\n",
       "      <td>0.000000</td>\n",
       "      <td>0.000000</td>\n",
       "      <td>0.000000</td>\n",
       "      <td>0.000000</td>\n",
       "      <td>0.000000</td>\n",
       "      <td>0.000000</td>\n",
       "      <td>0.000000</td>\n",
       "      <td>0.000000</td>\n",
       "      <td>0.000000</td>\n",
       "      <td>...</td>\n",
       "      <td>0.000000</td>\n",
       "      <td>0.000000</td>\n",
       "      <td>0.000000</td>\n",
       "      <td>0.000000</td>\n",
       "      <td>0.000000</td>\n",
       "      <td>0.000000</td>\n",
       "      <td>0.000000</td>\n",
       "      <td>0.000000</td>\n",
       "      <td>0.000000</td>\n",
       "      <td>0.000000</td>\n",
       "    </tr>\n",
       "    <tr>\n",
       "      <th>25%</th>\n",
       "      <td>0.000000</td>\n",
       "      <td>0.000000</td>\n",
       "      <td>0.000000</td>\n",
       "      <td>0.000000</td>\n",
       "      <td>0.000000</td>\n",
       "      <td>0.000000</td>\n",
       "      <td>0.000000</td>\n",
       "      <td>0.000000</td>\n",
       "      <td>0.000000</td>\n",
       "      <td>0.000000</td>\n",
       "      <td>...</td>\n",
       "      <td>0.000000</td>\n",
       "      <td>0.000000</td>\n",
       "      <td>0.000000</td>\n",
       "      <td>0.000000</td>\n",
       "      <td>0.000000</td>\n",
       "      <td>0.000000</td>\n",
       "      <td>0.000000</td>\n",
       "      <td>0.000000</td>\n",
       "      <td>0.000000</td>\n",
       "      <td>0.000000</td>\n",
       "    </tr>\n",
       "    <tr>\n",
       "      <th>50%</th>\n",
       "      <td>0.000000</td>\n",
       "      <td>0.000000</td>\n",
       "      <td>0.000000</td>\n",
       "      <td>0.000000</td>\n",
       "      <td>0.000000</td>\n",
       "      <td>0.000000</td>\n",
       "      <td>0.000000</td>\n",
       "      <td>0.000000</td>\n",
       "      <td>0.000000</td>\n",
       "      <td>0.000000</td>\n",
       "      <td>...</td>\n",
       "      <td>0.000000</td>\n",
       "      <td>0.000000</td>\n",
       "      <td>0.000000</td>\n",
       "      <td>0.000000</td>\n",
       "      <td>0.000000</td>\n",
       "      <td>0.000000</td>\n",
       "      <td>0.000000</td>\n",
       "      <td>0.000000</td>\n",
       "      <td>0.000000</td>\n",
       "      <td>0.000000</td>\n",
       "    </tr>\n",
       "    <tr>\n",
       "      <th>75%</th>\n",
       "      <td>9.000000</td>\n",
       "      <td>14.000000</td>\n",
       "      <td>15.000000</td>\n",
       "      <td>14.024283</td>\n",
       "      <td>12.000000</td>\n",
       "      <td>14.000000</td>\n",
       "      <td>10.000000</td>\n",
       "      <td>8.704330</td>\n",
       "      <td>11.000000</td>\n",
       "      <td>12.000000</td>\n",
       "      <td>...</td>\n",
       "      <td>12.912262</td>\n",
       "      <td>10.000000</td>\n",
       "      <td>8.000000</td>\n",
       "      <td>10.000000</td>\n",
       "      <td>9.573405</td>\n",
       "      <td>10.000000</td>\n",
       "      <td>12.779566</td>\n",
       "      <td>10.000000</td>\n",
       "      <td>10.000000</td>\n",
       "      <td>7.000000</td>\n",
       "    </tr>\n",
       "    <tr>\n",
       "      <th>max</th>\n",
       "      <td>244357.949825</td>\n",
       "      <td>403784.372969</td>\n",
       "      <td>506898.870121</td>\n",
       "      <td>447217.363669</td>\n",
       "      <td>381562.970186</td>\n",
       "      <td>611764.000000</td>\n",
       "      <td>347929.976438</td>\n",
       "      <td>289801.051805</td>\n",
       "      <td>438626.666377</td>\n",
       "      <td>367384.000000</td>\n",
       "      <td>...</td>\n",
       "      <td>593592.067791</td>\n",
       "      <td>376229.269735</td>\n",
       "      <td>373252.666986</td>\n",
       "      <td>335921.721657</td>\n",
       "      <td>401920.030953</td>\n",
       "      <td>707559.081080</td>\n",
       "      <td>622805.112730</td>\n",
       "      <td>505478.000000</td>\n",
       "      <td>429427.052976</td>\n",
       "      <td>379863.180379</td>\n",
       "    </tr>\n",
       "  </tbody>\n",
       "</table>\n",
       "<p>8 rows × 128 columns</p>\n",
       "</div>"
      ],
      "text/plain": [
       "       7441_129S1_HFD  7516_129S1_HFD  7501_129S1_HFD  7654_129S1_HFD  \\\n",
       "count    46517.000000    46517.000000    46517.000000    46517.000000   \n",
       "mean       129.076703      214.137004      295.101769      219.104800   \n",
       "std       2265.085827     3850.888392     5134.500908     4012.543313   \n",
       "min          0.000000        0.000000        0.000000        0.000000   \n",
       "25%          0.000000        0.000000        0.000000        0.000000   \n",
       "50%          0.000000        0.000000        0.000000        0.000000   \n",
       "75%          9.000000       14.000000       15.000000       14.024283   \n",
       "max     244357.949825   403784.372969   506898.870121   447217.363669   \n",
       "\n",
       "       7639_129S1_HFD  8393_129S1_HFD  8378_129S1_HFD  7456_129S1_HFD  \\\n",
       "count    46517.000000    46517.000000    46517.000000    46517.000000   \n",
       "mean       193.204140      215.962831      168.577036      142.932799   \n",
       "std       3582.818555     4302.808026     3113.025204     2593.796972   \n",
       "min          0.000000        0.000000        0.000000        0.000000   \n",
       "25%          0.000000        0.000000        0.000000        0.000000   \n",
       "50%          0.000000        0.000000        0.000000        0.000000   \n",
       "75%         12.000000       14.000000       10.000000        8.704330   \n",
       "max     381562.970186   611764.000000   347929.976438   289801.051805   \n",
       "\n",
       "       7546_129S1_LFD  7471_129S1_LFD      ...        11190_WSB_HFD  \\\n",
       "count    46517.000000    46517.000000      ...         46517.000000   \n",
       "mean       216.326096      176.023131      ...           247.392029   \n",
       "std       4124.682595     3170.136634      ...          4919.396525   \n",
       "min          0.000000        0.000000      ...             0.000000   \n",
       "25%          0.000000        0.000000      ...             0.000000   \n",
       "50%          0.000000        0.000000      ...             0.000000   \n",
       "75%         11.000000       12.000000      ...            12.912262   \n",
       "max     438626.666377   367384.000000      ...        593592.067791   \n",
       "\n",
       "        9149_WSB_HFD  11060_WSB_LFD  11553_WSB_LFD  11538_WSB_LFD  \\\n",
       "count   46517.000000   46517.000000   46517.000000   46517.000000   \n",
       "mean      191.256336     146.884193     143.813531     164.943032   \n",
       "std      3447.299600    3018.897717    2828.363259    3402.434572   \n",
       "min         0.000000       0.000000       0.000000       0.000000   \n",
       "25%         0.000000       0.000000       0.000000       0.000000   \n",
       "50%         0.000000       0.000000       0.000000       0.000000   \n",
       "75%        10.000000       8.000000      10.000000       9.573405   \n",
       "max    376229.269735  373252.666986  335921.721657  401920.030953   \n",
       "\n",
       "       11319_WSB_LFD  11468_WSB_LFD  11304_WSB_LFD  11483_WSB_LFD  \\\n",
       "count   46517.000000   46517.000000   46517.000000   46517.000000   \n",
       "mean      213.669798     214.471527     178.852140     163.617108   \n",
       "std      5258.142615    4810.114276    4060.533942    3535.649496   \n",
       "min         0.000000       0.000000       0.000000       0.000000   \n",
       "25%         0.000000       0.000000       0.000000       0.000000   \n",
       "50%         0.000000       0.000000       0.000000       0.000000   \n",
       "75%        10.000000      12.779566      10.000000      10.000000   \n",
       "max    707559.081080  622805.112730  505478.000000  429427.052976   \n",
       "\n",
       "       11513_WSB_LFD  \n",
       "count   46517.000000  \n",
       "mean      140.167702  \n",
       "std      3073.409637  \n",
       "min         0.000000  \n",
       "25%         0.000000  \n",
       "50%         0.000000  \n",
       "75%         7.000000  \n",
       "max    379863.180379  \n",
       "\n",
       "[8 rows x 128 columns]"
      ]
     },
     "execution_count": 9,
     "metadata": {},
     "output_type": "execute_result"
    }
   ],
   "source": [
    "exp_data.describe()"
   ]
  },
  {
   "cell_type": "markdown",
   "metadata": {},
   "source": [
    "### Compute the total number of reads for each sample."
   ]
  },
  {
   "cell_type": "code",
   "execution_count": 10,
   "metadata": {
    "collapsed": false
   },
   "outputs": [
    {
     "data": {
      "text/plain": [
       "7441_129S1_HFD    6.004261e+06\n",
       "7516_129S1_HFD    9.961011e+06\n",
       "7501_129S1_HFD    1.372725e+07\n",
       "7654_129S1_HFD    1.019210e+07\n",
       "7639_129S1_HFD    8.987277e+06\n",
       "dtype: float64"
      ]
     },
     "execution_count": 10,
     "metadata": {},
     "output_type": "execute_result"
    }
   ],
   "source": [
    "exp_data.sum(axis=0).head()\n"
   ]
  },
  {
   "cell_type": "code",
   "execution_count": 22,
   "metadata": {
    "collapsed": false
   },
   "outputs": [
    {
     "data": {
      "text/plain": [
       "Zranb2     41267.000000\n",
       "Lrriq3      1343.000000\n",
       "Dnase2b    25177.000000\n",
       "Adgrl2     52394.805892\n",
       "Rpf1       15963.000000\n",
       "dtype: float64"
      ]
     },
     "execution_count": 22,
     "metadata": {},
     "output_type": "execute_result"
    }
   ],
   "source": [
    "exp_data.sum(axis=1).head()\n"
   ]
  },
  {
   "cell_type": "code",
   "execution_count": null,
   "metadata": {
    "collapsed": false
   },
   "outputs": [],
   "source": [
    "\n"
   ]
  },
  {
   "cell_type": "code",
   "execution_count": 15,
   "metadata": {
    "collapsed": false
   },
   "outputs": [
    {
     "data": {
      "text/plain": [
       "Index(['7441_129S1_HFD', '7516_129S1_HFD', '7501_129S1_HFD', '7654_129S1_HFD',\n",
       "       '7639_129S1_HFD', '8393_129S1_HFD', '8378_129S1_HFD', '7456_129S1_HFD',\n",
       "       '7546_129S1_LFD', '7471_129S1_LFD',\n",
       "       ...\n",
       "       '11190_WSB_HFD', '9149_WSB_HFD', '11060_WSB_LFD', '11553_WSB_LFD',\n",
       "       '11538_WSB_LFD', '11319_WSB_LFD', '11468_WSB_LFD', '11304_WSB_LFD',\n",
       "       '11483_WSB_LFD', '11513_WSB_LFD'],\n",
       "      dtype='object', length=128)"
      ]
     },
     "execution_count": 15,
     "metadata": {},
     "output_type": "execute_result"
    }
   ],
   "source": [
    "exp_data.columns"
   ]
  },
  {
   "cell_type": "markdown",
   "metadata": {},
   "source": [
    "### Subset expression data based on expression threshold"
   ]
  },
  {
   "cell_type": "code",
   "execution_count": 106,
   "metadata": {
    "collapsed": false
   },
   "outputs": [
    {
     "data": {
      "text/plain": [
       "<matplotlib.axes._subplots.AxesSubplot at 0x1a3ba7d8d0>"
      ]
     },
     "execution_count": 106,
     "metadata": {},
     "output_type": "execute_result"
    },
    {
     "data": {
      "image/png": "[encoded data removed]",
      "text/plain": [
       "<matplotlib.figure.Figure at 0x1a289988d0>"
      ]
     },
     "metadata": {},
     "output_type": "display_data"
    }
   ],
   "source": [
    "#print(exp_data.head())\n",
    "thres = 25\n",
    "exp_mean = exp_data.mean(axis=1).values\n",
    "exp_var = exp_data.var(axis=1).values\n",
    "mean_var_df = pd.DataFrame({'mean':exp_mean,\n",
    "                           'var':exp_var})\n",
    "sns.regplot(x=mean_var_df[\"mean\"], y=mean_var_df[\"var\"])\n"
   ]
  },
  {
   "cell_type": "code",
   "execution_count": 23,
   "metadata": {
    "collapsed": false
   },
   "outputs": [
    {
     "name": "stdout",
     "output_type": "stream",
     "text": [
      "(8941, 128)\n"
     ]
    },
    {
     "data": {
      "text/html": [
       "<div>\n",
       "<style>\n",
       "    .dataframe thead tr:only-child th {\n",
       "        text-align: right;\n",
       "    }\n",
       "\n",
       "    .dataframe thead th {\n",
       "        text-align: left;\n",
       "    }\n",
       "\n",
       "    .dataframe tbody tr th {\n",
       "        vertical-align: top;\n",
       "    }\n",
       "</style>\n",
       "<table border=\"1\" class=\"dataframe\">\n",
       "  <thead>\n",
       "    <tr style=\"text-align: right;\">\n",
       "      <th></th>\n",
       "      <th>7441_129S1_HFD</th>\n",
       "      <th>7516_129S1_HFD</th>\n",
       "      <th>7501_129S1_HFD</th>\n",
       "      <th>7654_129S1_HFD</th>\n",
       "      <th>7639_129S1_HFD</th>\n",
       "      <th>8393_129S1_HFD</th>\n",
       "      <th>8378_129S1_HFD</th>\n",
       "      <th>7456_129S1_HFD</th>\n",
       "      <th>7546_129S1_LFD</th>\n",
       "      <th>7471_129S1_LFD</th>\n",
       "      <th>...</th>\n",
       "      <th>11190_WSB_HFD</th>\n",
       "      <th>9149_WSB_HFD</th>\n",
       "      <th>11060_WSB_LFD</th>\n",
       "      <th>11553_WSB_LFD</th>\n",
       "      <th>11538_WSB_LFD</th>\n",
       "      <th>11319_WSB_LFD</th>\n",
       "      <th>11468_WSB_LFD</th>\n",
       "      <th>11304_WSB_LFD</th>\n",
       "      <th>11483_WSB_LFD</th>\n",
       "      <th>11513_WSB_LFD</th>\n",
       "    </tr>\n",
       "  </thead>\n",
       "  <tbody>\n",
       "    <tr>\n",
       "      <th>Zranb2</th>\n",
       "      <td>216.000000</td>\n",
       "      <td>355.000000</td>\n",
       "      <td>536.000000</td>\n",
       "      <td>377.000000</td>\n",
       "      <td>345.0</td>\n",
       "      <td>299.000000</td>\n",
       "      <td>256.000000</td>\n",
       "      <td>313.000000</td>\n",
       "      <td>436.000000</td>\n",
       "      <td>390.000000</td>\n",
       "      <td>...</td>\n",
       "      <td>304.000000</td>\n",
       "      <td>315.000000</td>\n",
       "      <td>209.000000</td>\n",
       "      <td>257.000000</td>\n",
       "      <td>247.0</td>\n",
       "      <td>261.0</td>\n",
       "      <td>322.000000</td>\n",
       "      <td>256.000000</td>\n",
       "      <td>255.000000</td>\n",
       "      <td>200.000000</td>\n",
       "    </tr>\n",
       "    <tr>\n",
       "      <th>Dnase2b</th>\n",
       "      <td>99.000000</td>\n",
       "      <td>231.000000</td>\n",
       "      <td>159.000000</td>\n",
       "      <td>238.000000</td>\n",
       "      <td>163.0</td>\n",
       "      <td>176.000000</td>\n",
       "      <td>169.000000</td>\n",
       "      <td>130.000000</td>\n",
       "      <td>208.000000</td>\n",
       "      <td>220.000000</td>\n",
       "      <td>...</td>\n",
       "      <td>513.000000</td>\n",
       "      <td>283.000000</td>\n",
       "      <td>212.000000</td>\n",
       "      <td>158.000000</td>\n",
       "      <td>249.0</td>\n",
       "      <td>260.0</td>\n",
       "      <td>304.000000</td>\n",
       "      <td>286.000000</td>\n",
       "      <td>179.000000</td>\n",
       "      <td>98.000000</td>\n",
       "    </tr>\n",
       "    <tr>\n",
       "      <th>Adgrl2</th>\n",
       "      <td>595.754704</td>\n",
       "      <td>333.456723</td>\n",
       "      <td>928.563736</td>\n",
       "      <td>387.072363</td>\n",
       "      <td>355.0</td>\n",
       "      <td>537.082105</td>\n",
       "      <td>407.013974</td>\n",
       "      <td>427.507411</td>\n",
       "      <td>538.176698</td>\n",
       "      <td>480.723515</td>\n",
       "      <td>...</td>\n",
       "      <td>441.848348</td>\n",
       "      <td>382.327842</td>\n",
       "      <td>247.282277</td>\n",
       "      <td>244.038719</td>\n",
       "      <td>172.0</td>\n",
       "      <td>252.0</td>\n",
       "      <td>434.254622</td>\n",
       "      <td>230.164646</td>\n",
       "      <td>230.529848</td>\n",
       "      <td>215.268645</td>\n",
       "    </tr>\n",
       "    <tr>\n",
       "      <th>Rpf1</th>\n",
       "      <td>69.000000</td>\n",
       "      <td>137.000000</td>\n",
       "      <td>185.000000</td>\n",
       "      <td>131.000000</td>\n",
       "      <td>145.0</td>\n",
       "      <td>105.000000</td>\n",
       "      <td>107.000000</td>\n",
       "      <td>102.000000</td>\n",
       "      <td>132.000000</td>\n",
       "      <td>135.000000</td>\n",
       "      <td>...</td>\n",
       "      <td>134.000000</td>\n",
       "      <td>146.000000</td>\n",
       "      <td>80.000000</td>\n",
       "      <td>84.000000</td>\n",
       "      <td>113.0</td>\n",
       "      <td>109.0</td>\n",
       "      <td>137.000000</td>\n",
       "      <td>108.000000</td>\n",
       "      <td>113.000000</td>\n",
       "      <td>94.000000</td>\n",
       "    </tr>\n",
       "    <tr>\n",
       "      <th>Uox</th>\n",
       "      <td>6739.000000</td>\n",
       "      <td>14556.000000</td>\n",
       "      <td>11566.000000</td>\n",
       "      <td>16169.000000</td>\n",
       "      <td>11624.0</td>\n",
       "      <td>11132.000000</td>\n",
       "      <td>8888.000000</td>\n",
       "      <td>7143.000000</td>\n",
       "      <td>11765.000000</td>\n",
       "      <td>12791.000000</td>\n",
       "      <td>...</td>\n",
       "      <td>20746.000000</td>\n",
       "      <td>14483.000000</td>\n",
       "      <td>10136.000000</td>\n",
       "      <td>8316.000000</td>\n",
       "      <td>12595.0</td>\n",
       "      <td>11219.0</td>\n",
       "      <td>13554.000000</td>\n",
       "      <td>15121.000000</td>\n",
       "      <td>11747.000000</td>\n",
       "      <td>3770.000000</td>\n",
       "    </tr>\n",
       "  </tbody>\n",
       "</table>\n",
       "<p>5 rows × 128 columns</p>\n",
       "</div>"
      ],
      "text/plain": [
       "         7441_129S1_HFD  7516_129S1_HFD  7501_129S1_HFD  7654_129S1_HFD  \\\n",
       "Zranb2       216.000000      355.000000      536.000000      377.000000   \n",
       "Dnase2b       99.000000      231.000000      159.000000      238.000000   \n",
       "Adgrl2       595.754704      333.456723      928.563736      387.072363   \n",
       "Rpf1          69.000000      137.000000      185.000000      131.000000   \n",
       "Uox         6739.000000    14556.000000    11566.000000    16169.000000   \n",
       "\n",
       "         7639_129S1_HFD  8393_129S1_HFD  8378_129S1_HFD  7456_129S1_HFD  \\\n",
       "Zranb2            345.0      299.000000      256.000000      313.000000   \n",
       "Dnase2b           163.0      176.000000      169.000000      130.000000   \n",
       "Adgrl2            355.0      537.082105      407.013974      427.507411   \n",
       "Rpf1              145.0      105.000000      107.000000      102.000000   \n",
       "Uox             11624.0    11132.000000     8888.000000     7143.000000   \n",
       "\n",
       "         7546_129S1_LFD  7471_129S1_LFD      ...        11190_WSB_HFD  \\\n",
       "Zranb2       436.000000      390.000000      ...           304.000000   \n",
       "Dnase2b      208.000000      220.000000      ...           513.000000   \n",
       "Adgrl2       538.176698      480.723515      ...           441.848348   \n",
       "Rpf1         132.000000      135.000000      ...           134.000000   \n",
       "Uox        11765.000000    12791.000000      ...         20746.000000   \n",
       "\n",
       "         9149_WSB_HFD  11060_WSB_LFD  11553_WSB_LFD  11538_WSB_LFD  \\\n",
       "Zranb2     315.000000     209.000000     257.000000          247.0   \n",
       "Dnase2b    283.000000     212.000000     158.000000          249.0   \n",
       "Adgrl2     382.327842     247.282277     244.038719          172.0   \n",
       "Rpf1       146.000000      80.000000      84.000000          113.0   \n",
       "Uox      14483.000000   10136.000000    8316.000000        12595.0   \n",
       "\n",
       "         11319_WSB_LFD  11468_WSB_LFD  11304_WSB_LFD  11483_WSB_LFD  \\\n",
       "Zranb2           261.0     322.000000     256.000000     255.000000   \n",
       "Dnase2b          260.0     304.000000     286.000000     179.000000   \n",
       "Adgrl2           252.0     434.254622     230.164646     230.529848   \n",
       "Rpf1             109.0     137.000000     108.000000     113.000000   \n",
       "Uox            11219.0   13554.000000   15121.000000   11747.000000   \n",
       "\n",
       "         11513_WSB_LFD  \n",
       "Zranb2      200.000000  \n",
       "Dnase2b      98.000000  \n",
       "Adgrl2      215.268645  \n",
       "Rpf1         94.000000  \n",
       "Uox        3770.000000  \n",
       "\n",
       "[5 rows x 128 columns]"
      ]
     },
     "execution_count": 23,
     "metadata": {},
     "output_type": "execute_result"
    }
   ],
   "source": [
    "exp_nz = exp_data[exp_data.mean(axis=1)>=50]\n",
    "print(exp_nz.shape)\n",
    "exp_nz.head()"
   ]
  },
  {
   "cell_type": "code",
   "execution_count": null,
   "metadata": {
    "collapsed": true
   },
   "outputs": [],
   "source": []
  },
  {
   "cell_type": "code",
   "execution_count": 24,
   "metadata": {
    "collapsed": true
   },
   "outputs": [],
   "source": [
    "# function get strain name\n",
    "def get_strain(column_name):\n",
    "    return column_name.split(\"_\")[1]\n",
    "\n"
   ]
  },
  {
   "cell_type": "code",
   "execution_count": 25,
   "metadata": {
    "collapsed": false
   },
   "outputs": [
    {
     "data": {
      "text/plain": [
       "Index(['129S1', '129S1', '129S1', '129S1', '129S1', '129S1', '129S1', '129S1',\n",
       "       '129S1', '129S1',\n",
       "       ...\n",
       "       'WSB', 'WSB', 'WSB', 'WSB', 'WSB', 'WSB', 'WSB', 'WSB', 'WSB', 'WSB'],\n",
       "      dtype='object', length=128)"
      ]
     },
     "execution_count": 25,
     "metadata": {},
     "output_type": "execute_result"
    }
   ],
   "source": [
    "strains = exp_data.columns.map(get_strain)\n",
    "strains\n"
   ]
  },
  {
   "cell_type": "markdown",
   "metadata": {},
   "source": [
    "### Write a function to get diets of each animal\n"
   ]
  },
  {
   "cell_type": "code",
   "execution_count": 26,
   "metadata": {
    "collapsed": false
   },
   "outputs": [
    {
     "data": {
      "text/plain": [
       "Index(['HFD', 'HFD', 'HFD', 'HFD', 'HFD', 'HFD', 'HFD', 'HFD', 'LFD', 'LFD',\n",
       "       ...\n",
       "       'HFD', 'HFD', 'LFD', 'LFD', 'LFD', 'LFD', 'LFD', 'LFD', 'LFD', 'LFD'],\n",
       "      dtype='object', length=128)"
      ]
     },
     "execution_count": 26,
     "metadata": {},
     "output_type": "execute_result"
    }
   ],
   "source": [
    "def get_diet(column_name):\n",
    "    return column_name.split(\"_\")[2]\n",
    "diet = exp_data.columns.map(get_diet)\n",
    "diet"
   ]
  },
  {
   "cell_type": "markdown",
   "metadata": {},
   "source": [
    "### Gene Expression Boxplot\n"
   ]
  },
  {
   "cell_type": "code",
   "execution_count": 27,
   "metadata": {
    "collapsed": false
   },
   "outputs": [
    {
     "name": "stdout",
     "output_type": "stream",
     "text": [
      "     counts strain\n",
      "0  212801.0  129S1\n",
      "1  380939.0  129S1\n",
      "2  336145.0  129S1\n",
      "3  368347.0  129S1\n",
      "4  318435.0  129S1\n"
     ]
    }
   ],
   "source": [
    "g_name = 'Alb'\n",
    "exp = exp_data.loc[g_name].values\n",
    "strain = strains\n",
    "g_df = pd.DataFrame({'counts':exp,\n",
    "                    'strain':strain})\n",
    "print(g_df.head())\n",
    "#sns.despine(offset=10, trim=True)\n"
   ]
  },
  {
   "cell_type": "code",
   "execution_count": 38,
   "metadata": {
    "collapsed": false
   },
   "outputs": [
    {
     "data": {
      "text/plain": [
       "Text(0,0.5,'Counts')"
      ]
     },
     "execution_count": 38,
     "metadata": {},
     "output_type": "execute_result"
    },
    {
     "data": {
      "image/png": "[encoded data removed]",
      "text/plain": [
       "<matplotlib.figure.Figure at 0x1a25b21908>"
      ]
     },
     "metadata": {},
     "output_type": "display_data"
    }
   ],
   "source": [
    "# Use Seaborn to make box plot\n",
    "my_box_plot = sns.boxplot(y='counts', x='strain', data=g_df, width=0.5,palette=\"muted\")\n",
    "# Relabel axes\n",
    "my_box_plot.set_xlabel('Strain')\n",
    "my_box_plot.set_ylabel('Counts')\n",
    "#plt.savefig('test.pdf')"
   ]
  },
  {
   "cell_type": "code",
   "execution_count": 43,
   "metadata": {
    "collapsed": false
   },
   "outputs": [
    {
     "data": {
      "text/plain": [
       "Text(0,0.5,'Counts')"
      ]
     },
     "execution_count": 43,
     "metadata": {},
     "output_type": "execute_result"
    },
    {
     "data": {
      "image/png": "[encoded data removed]",
      "text/plain": [
       "<matplotlib.figure.Figure at 0x1a26014d68>"
      ]
     },
     "metadata": {},
     "output_type": "display_data"
    }
   ],
   "source": [
    "# Use Seaborn to make box plot\n",
    "ax = sns.boxplot(y='counts', x='strain', data=g_df, width=0.5,palette=\"muted\")\n",
    "# Make the jitter plot\n",
    "ax = sns.stripplot(y='counts', x='strain', data=g_df, jitter=True, color='black')\n",
    "# Relabel axes\n",
    "ax.set_xlabel('Strain')\n",
    "ax.set_ylabel('Counts')\n",
    "#plt.savefig('test.pdf')"
   ]
  },
  {
   "cell_type": "code",
   "execution_count": null,
   "metadata": {
    "collapsed": false
   },
   "outputs": [],
   "source": []
  },
  {
   "cell_type": "code",
   "execution_count": 45,
   "metadata": {
    "collapsed": false
   },
   "outputs": [
    {
     "data": {
      "text/plain": [
       "<matplotlib.axes._subplots.AxesSubplot at 0x1a252ed278>"
      ]
     },
     "execution_count": 45,
     "metadata": {},
     "output_type": "execute_result"
    },
    {
     "data": {
      "image/png": "[encoded data removed]",
      "text/plain": [
       "<matplotlib.figure.Figure at 0x1a26484400>"
      ]
     },
     "metadata": {},
     "output_type": "display_data"
    }
   ],
   "source": [
    "sns.boxplot(y=\"counts\", x=\"strain\", data=g_df,palette=\"muted\")\n",
    "sns.swarmplot(x=\"strain\", y=\"counts\", data=g_df, color=\".25\")\n"
   ]
  },
  {
   "cell_type": "markdown",
   "metadata": {},
   "source": [
    "#### Save boxplot in high resolution\n"
   ]
  },
  {
   "cell_type": "code",
   "execution_count": 86,
   "metadata": {
    "collapsed": false
   },
   "outputs": [
    {
     "data": {
      "image/png": "[encoded data removed]",
      "text/plain": [
       "<matplotlib.figure.Figure at 0x1a28454208>"
      ]
     },
     "metadata": {},
     "output_type": "display_data"
    }
   ],
   "source": [
    "exp_vs_strain = sns.boxplot(y=\"counts\", x=\"strain\", data=g_df,palette=\"muted\")\n",
    "exp_vs_strain = sns.swarmplot(x=\"strain\", y=\"counts\", data=g_df, color=\".25\")\n",
    "# save as jpeg\n",
    "plot_file_name=g_name+\"_liver_cc_founders.jpg\"\n",
    "exp_vs_strain.figure.savefig(plot_file_name,format='jpeg',dpi=1000)\n",
    "# save as pdf\n",
    "exp_vs_strain.figure.savefig(g_name+\"_liver_cc_founders.pdf\",format='pdf',dpi=1000)\n"
   ]
  },
  {
   "cell_type": "markdown",
   "metadata": {},
   "source": [
    "### Another boxplot shoing the effect of diet"
   ]
  },
  {
   "cell_type": "code",
   "execution_count": 87,
   "metadata": {
    "collapsed": false
   },
   "outputs": [
    {
     "name": "stdout",
     "output_type": "stream",
     "text": [
      "     counts diet strain\n",
      "0  212801.0  HFD  129S1\n",
      "1  380939.0  HFD  129S1\n",
      "2  336145.0  HFD  129S1\n",
      "3  368347.0  HFD  129S1\n",
      "4  318435.0  HFD  129S1\n"
     ]
    }
   ],
   "source": [
    "g_name = 'Alb'\n",
    "exp = exp_data.loc[g_name].values\n",
    "g_df = pd.DataFrame({'counts':exp,\n",
    "                    'strain':strain,\n",
    "                    'diet':diet})\n",
    "print(g_df.head())"
   ]
  },
  {
   "cell_type": "code",
   "execution_count": 88,
   "metadata": {
    "collapsed": false
   },
   "outputs": [
    {
     "data": {
      "image/png": "[encoded data removed]",
      "text/plain": [
       "<matplotlib.figure.Figure at 0x1a27db3128>"
      ]
     },
     "metadata": {},
     "output_type": "display_data"
    }
   ],
   "source": [
    "exp_vs_strain_diet=sns.boxplot(y=\"counts\", x=\"strain\", data=g_df, hue='diet',palette=\"muted\",linewidth=1)\n",
    "exp_vs_strain_diet=sns.stripplot(x=\"strain\", y=\"counts\", hue='diet', data=g_df,size=4,dodge=True, jitter=True)\n",
    "exp_vs_strain_diet.figure.savefig(plot_file_name,format='jpeg',dpi=1000)\n",
    "\n",
    "\n",
    "#sns.boxplot(x=\"day\", y=\"total_bill\", hue=\"smoker\", data=tips,\n",
    "#            palette=\"PRGn\", linewidth=1)\n",
    "#sns.stripplot(x=\"day\", y=\"total_bill\", hue=\"smoker\", data=tips,\n",
    "#              palette=\"PRGn\", size=4, edgecolor=\"gray\", split=True)\n",
    "#sns.despine(offset=10, trim=True)"
   ]
  },
  {
   "cell_type": "markdown",
   "metadata": {
    "collapsed": true
   },
   "source": [
    "### Scatter plot"
   ]
  },
  {
   "cell_type": "code",
   "execution_count": 46,
   "metadata": {
    "collapsed": false
   },
   "outputs": [
    {
     "data": {
      "text/plain": [
       "Index(['Zranb2', 'Lrriq3', 'Dnase2b', 'Adgrl2', 'Rpf1', 'Uox', 'Ctbs',\n",
       "       'Spata1', 'Ptprh', 'Mageb4',\n",
       "       ...\n",
       "       'Dcst1', 'Rgs8', 'Immp1l', 'Kif1bp', 'Gm8546', 'Ypel3', 'Gm11405',\n",
       "       'RP23-403P6.1', 'Cst11', 'Myo15'],\n",
       "      dtype='object', length=46517)"
      ]
     },
     "execution_count": 46,
     "metadata": {},
     "output_type": "execute_result"
    }
   ],
   "source": [
    "exp_data.index"
   ]
  },
  {
   "cell_type": "code",
   "execution_count": 47,
   "metadata": {
    "collapsed": false
   },
   "outputs": [
    {
     "data": {
      "text/html": [
       "<div>\n",
       "<style>\n",
       "    .dataframe thead tr:only-child th {\n",
       "        text-align: right;\n",
       "    }\n",
       "\n",
       "    .dataframe thead th {\n",
       "        text-align: left;\n",
       "    }\n",
       "\n",
       "    .dataframe tbody tr th {\n",
       "        vertical-align: top;\n",
       "    }\n",
       "</style>\n",
       "<table border=\"1\" class=\"dataframe\">\n",
       "  <thead>\n",
       "    <tr style=\"text-align: right;\">\n",
       "      <th></th>\n",
       "      <th>diet</th>\n",
       "      <th>exp1</th>\n",
       "      <th>exp2</th>\n",
       "      <th>strain</th>\n",
       "    </tr>\n",
       "  </thead>\n",
       "  <tbody>\n",
       "    <tr>\n",
       "      <th>0</th>\n",
       "      <td>HFD</td>\n",
       "      <td>212801.0</td>\n",
       "      <td>6739.0</td>\n",
       "      <td>129S1</td>\n",
       "    </tr>\n",
       "    <tr>\n",
       "      <th>1</th>\n",
       "      <td>HFD</td>\n",
       "      <td>380939.0</td>\n",
       "      <td>14556.0</td>\n",
       "      <td>129S1</td>\n",
       "    </tr>\n",
       "    <tr>\n",
       "      <th>2</th>\n",
       "      <td>HFD</td>\n",
       "      <td>336145.0</td>\n",
       "      <td>11566.0</td>\n",
       "      <td>129S1</td>\n",
       "    </tr>\n",
       "    <tr>\n",
       "      <th>3</th>\n",
       "      <td>HFD</td>\n",
       "      <td>368347.0</td>\n",
       "      <td>16169.0</td>\n",
       "      <td>129S1</td>\n",
       "    </tr>\n",
       "    <tr>\n",
       "      <th>4</th>\n",
       "      <td>HFD</td>\n",
       "      <td>318435.0</td>\n",
       "      <td>11624.0</td>\n",
       "      <td>129S1</td>\n",
       "    </tr>\n",
       "  </tbody>\n",
       "</table>\n",
       "</div>"
      ],
      "text/plain": [
       "  diet      exp1     exp2 strain\n",
       "0  HFD  212801.0   6739.0  129S1\n",
       "1  HFD  380939.0  14556.0  129S1\n",
       "2  HFD  336145.0  11566.0  129S1\n",
       "3  HFD  368347.0  16169.0  129S1\n",
       "4  HFD  318435.0  11624.0  129S1"
      ]
     },
     "execution_count": 47,
     "metadata": {},
     "output_type": "execute_result"
    }
   ],
   "source": [
    "g1_exp = exp_data.loc['Alb'].values\n",
    "g2_exp = exp_data.loc['Uox'].values\n",
    "g1_g2_df = pd.DataFrame({'exp1':g1_exp,\n",
    "                        'exp2':g2_exp,\n",
    "                        'strain':strain,\n",
    "                        'diet':diet})\n",
    "g1_g2_df.head()\n"
   ]
  },
  {
   "cell_type": "code",
   "execution_count": 48,
   "metadata": {
    "collapsed": false
   },
   "outputs": [
    {
     "data": {
      "text/plain": [
       "<matplotlib.axes._subplots.AxesSubplot at 0x1a266a84a8>"
      ]
     },
     "execution_count": 48,
     "metadata": {},
     "output_type": "execute_result"
    },
    {
     "data": {
      "image/png": "[encoded data removed]",
      "text/plain": [
       "<matplotlib.figure.Figure at 0x1a265df470>"
      ]
     },
     "metadata": {},
     "output_type": "display_data"
    }
   ],
   "source": [
    "sns.regplot(x=g1_g2_df[\"exp1\"], y=g1_g2_df[\"exp2\"],fit_reg=True)\n"
   ]
  },
  {
   "cell_type": "markdown",
   "metadata": {},
   "source": [
    "#### scatter plot"
   ]
  },
  {
   "cell_type": "code",
   "execution_count": 51,
   "metadata": {
    "collapsed": false
   },
   "outputs": [
    {
     "data": {
      "image/png": "[encoded data removed]",
      "text/plain": [
       "<matplotlib.figure.Figure at 0x1a26ace550>"
      ]
     },
     "metadata": {},
     "output_type": "display_data"
    },
    {
     "data": {
      "image/png": "[encoded data removed]",
      "text/plain": [
       "<matplotlib.figure.Figure at 0x1a26acebe0>"
      ]
     },
     "metadata": {},
     "output_type": "display_data"
    }
   ],
   "source": [
    "# get two genes' expression\n",
    "#sns.set(color_codes=True)\n",
    "sns.jointplot(x=\"exp1\", y=\"exp2\", data=g1_g2_df);\n",
    "sns.pairplot(g1_g2_df);"
   ]
  },
  {
   "cell_type": "code",
   "execution_count": 54,
   "metadata": {
    "collapsed": false
   },
   "outputs": [
    {
     "data": {
      "text/plain": [
       "<seaborn.axisgrid.FacetGrid at 0x1a269c1a58>"
      ]
     },
     "execution_count": 54,
     "metadata": {},
     "output_type": "execute_result"
    },
    {
     "data": {
      "image/png": "[encoded data removed]",
      "text/plain": [
       "<matplotlib.figure.Figure at 0x1a26816390>"
      ]
     },
     "metadata": {},
     "output_type": "display_data"
    }
   ],
   "source": [
    "g = sns.lmplot(x=\"exp1\", y=\"exp2\",\n",
    "               truncate=True, size=5, data=g1_g2_df)\n",
    "# Use more informative axis labels than are provided by default\n",
    "g.set_axis_labels(\"g1 (count)\", \"g2 (count)\")\n",
    "#g = sns.lmplot(x=\"g1_exp\", y=\"g2_exp\",hue='strain',\n",
    "#               truncate=True, size=5, data=g1_g2_df)\n",
    "# Use more informative axis labels than are provided by default\n",
    "#g.set_axis_labels(\"g1 (count)\", \"g2 (count)\")"
   ]
  },
  {
   "cell_type": "code",
   "execution_count": 55,
   "metadata": {
    "collapsed": false
   },
   "outputs": [
    {
     "data": {
      "image/png": "[encoded data removed]",
      "text/plain": [
       "<matplotlib.figure.Figure at 0x1a271b5ba8>"
      ]
     },
     "metadata": {},
     "output_type": "display_data"
    }
   ],
   "source": [
    "g = sns.jointplot(x=\"exp1\", y=\"exp2\", data=g1_g2_df, kind=\"reg\",\n",
    "                   color=\"g\", size=7)"
   ]
  },
  {
   "cell_type": "code",
   "execution_count": 57,
   "metadata": {
    "collapsed": false
   },
   "outputs": [
    {
     "data": {
      "image/png": "[encoded data removed]",
      "text/plain": [
       "<matplotlib.figure.Figure at 0x1a27662470>"
      ]
     },
     "metadata": {},
     "output_type": "display_data"
    }
   ],
   "source": [
    "\n",
    "g = sns.jointplot(x=\"exp1\", y=\"exp2\", data=g1_g2_df)\n",
    "#xlim=[1,100],ylim=[0.01,100])\n",
    "g.plot_joint(plt.scatter, color='black', edgecolor='black')\n",
    "ax = g.ax_joint\n",
    "ax.set_xscale('log')\n",
    "ax.set_yscale('log')\n"
   ]
  },
  {
   "cell_type": "code",
   "execution_count": 105,
   "metadata": {
    "collapsed": false
   },
   "outputs": [
    {
     "data": {
      "text/plain": [
       "<seaborn.axisgrid.FacetGrid at 0x1a351c6630>"
      ]
     },
     "execution_count": 105,
     "metadata": {},
     "output_type": "execute_result"
    },
    {
     "data": {
      "image/png": "[encoded data removed]",
      "text/plain": [
       "<matplotlib.figure.Figure at 0x1a351c68d0>"
      ]
     },
     "metadata": {},
     "output_type": "display_data"
    }
   ],
   "source": [
    "g = sns.lmplot(x=\"g1_exp\", y=\"g2_exp\", data=g1_g2_df)\n",
    "g.set(xscale=\"log\", yscale=\"log\")\n",
    "\n"
   ]
  }
 ],
 "metadata": {
  "anaconda-cloud": {},
  "kernelspec": {
   "display_name": "Python [py3k]",
   "language": "python",
   "name": "Python [py3k]"
  },
  "language_info": {
   "codemirror_mode": {
    "name": "ipython",
    "version": 3
   },
   "file_extension": ".py",
   "mimetype": "text/x-python",
   "name": "python",
   "nbconvert_exporter": "python",
   "pygments_lexer": "ipython3",
   "version": "3.6.3"
  }
 },
 "nbformat": 4,
 "nbformat_minor": 2
}
